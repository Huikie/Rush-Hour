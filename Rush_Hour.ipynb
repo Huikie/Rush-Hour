{
 "cells": [
  {
   "cell_type": "code",
   "execution_count": 1,
   "metadata": {
    "collapsed": false
   },
   "outputs": [
    {
     "name": "stdout",
     "output_type": "stream",
     "text": [
      "P [(0, 2), (1, 2), (2, 2)]\n",
      "b [(0, 3)]\n",
      "G [(0, 5), (1, 5), (2, 5)]\n",
      "t [(5, 4)]\n",
      "O [(3, 3), (4, 3), (5, 3)]\n",
      "d [(4, 0), (5, 0)]\n",
      "c [(4, 1)]\n",
      "r [(2, 3)]\n"
     ]
    }
   ],
   "source": [
    "\n",
    "starting_grid = [\n",
    "[' ', ' ', 'P', 'b', 'b', 'G'],\n",
    "[' ', ' ', 'P', ' ', ' ', 'G'],\n",
    "[' ', ' ', 'P', 'r', 'r', 'G', '>'],\n",
    "[' ', ' ', ' ', 'O', 'o', 'o'],\n",
    "['d', 'c', 'c', 'O', ' ', ' '],\n",
    "['d', ' ', ' ', 'O', 't', 't']\n",
    "]\n",
    "\n",
    "car_list = ['P', 'b', 'G', 't', 'O', 'd', 'c', 'r']\n",
    "\n",
    "for car in car_list:\n",
    "    print car, [(i, x.index(car)) for i, x in enumerate(starting_grid) if car in x]"
   ]
  }
 ],
 "metadata": {
  "kernelspec": {
   "display_name": "Python [Root]",
   "language": "python",
   "name": "Python [Root]"
  },
  "language_info": {
   "codemirror_mode": {
    "name": "ipython",
    "version": 2
   },
   "file_extension": ".py",
   "mimetype": "text/x-python",
   "name": "python",
   "nbconvert_exporter": "python",
   "pygments_lexer": "ipython2",
   "version": "2.7.12"
  }
 },
 "nbformat": 4,
 "nbformat_minor": 0
}
